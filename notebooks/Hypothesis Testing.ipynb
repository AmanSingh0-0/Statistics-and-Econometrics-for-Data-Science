{
 "cells": [
  {
   "cell_type": "code",
   "execution_count": 1,
   "metadata": {},
   "outputs": [],
   "source": [
    "from scipy.stats import norm\n",
    "from math import sqrt"
   ]
  },
  {
   "cell_type": "code",
   "execution_count": 3,
   "metadata": {},
   "outputs": [
    {
     "name": "stdout",
     "output_type": "stream",
     "text": [
      "H0 : μ <= 100\n",
      "H1 : μ > 100\n",
      "alpha value is : 0.05 \n",
      "\n",
      "actual_z: 1.6448536269514729\n",
      "hypo_z: 3.2\n",
      "Reject NULL Hypothesis\n"
     ]
    }
   ],
   "source": [
    "def one_sided(samp_mean,pop_mean,std_dev,samp_size,alp):\n",
    "    actual_z = abs(norm.ppf(alp))\n",
    "    hypo_z = (samp_mean - pop_mean)/(std_dev/sqrt(samp_size))\n",
    "    print('actual_z:',actual_z)\n",
    "    print('hypo_z:',hypo_z)\n",
    "    if(hypo_z >= actual_z):\n",
    "        return True\n",
    "    else:\n",
    "        return False\n",
    "    \n",
    "\n",
    "alpha  = 0.05\n",
    "sample_mean = 108\n",
    "pop_mean = 100\n",
    "sample_size = 36\n",
    "std_dev = 15\n",
    "\n",
    "print(\"H0 : μ <=\", pop_mean)\n",
    "print('H1 : μ >', pop_mean)\n",
    "print(\"alpha value is :\", alpha,'\\n')\n",
    "\n",
    "rej = one_sided(sample_mean,pop_mean,std_dev,sample_size,alpha)\n",
    "if rej:\n",
    "    print(\"Reject NULL Hypothesis\")\n",
    "else:\n",
    "    print(\"Failed to reject NULL hypothesis\")"
   ]
  },
  {
   "cell_type": "code",
   "execution_count": 4,
   "metadata": {},
   "outputs": [
    {
     "name": "stdout",
     "output_type": "stream",
     "text": [
      "H0 : μ = 558\n",
      "H1 : μ != 558\n",
      "alpha value is : 0.05 \n",
      "\n",
      "actual_z: 1.6448536269514729\n",
      "hypo_z: 1.9424460431654675\n",
      "Reject NULL Hypothesis\n"
     ]
    }
   ],
   "source": [
    "def two_sided(sample_mean,pop_mean,std_dev,sample_size,alpha):\n",
    "    actual_z = abs(norm.ppf(alpha))\n",
    "    hypo_z = (sample_mean - pop_mean)/(std_dev/sqrt(sample_size))\n",
    "    print('actual_z:',actual_z)\n",
    "    print('hypo_z:',hypo_z)\n",
    "    if(hypo_z >= actual_z or hypo_z <=-(actual_z)):\n",
    "        return True\n",
    "    else:\n",
    "        return False\n",
    "    \n",
    "\n",
    "alpha  = 0.05\n",
    "sample_mean = 585\n",
    "pop_mean = 558\n",
    "sample_size = 100\n",
    "std_dev = 139\n",
    "\n",
    "print(\"H0 : μ =\", pop_mean)\n",
    "print('H1 : μ !=', pop_mean)\n",
    "print(\"alpha value is :\", alpha,'\\n')\n",
    "\n",
    "rej = two_sided(sample_mean,pop_mean,std_dev,sample_size,alpha)\n",
    "if rej:\n",
    "    print(\"Reject NULL Hypothesis\")\n",
    "else:\n",
    "    print(\"Failed to reject NULL hypothesis\")"
   ]
  },
  {
   "cell_type": "code",
   "execution_count": null,
   "metadata": {},
   "outputs": [],
   "source": []
  }
 ],
 "metadata": {
  "kernelspec": {
   "display_name": "Python 3",
   "language": "python",
   "name": "python3"
  },
  "language_info": {
   "codemirror_mode": {
    "name": "ipython",
    "version": 3
   },
   "file_extension": ".py",
   "mimetype": "text/x-python",
   "name": "python",
   "nbconvert_exporter": "python",
   "pygments_lexer": "ipython3",
   "version": "3.6.12"
  }
 },
 "nbformat": 4,
 "nbformat_minor": 4
}
